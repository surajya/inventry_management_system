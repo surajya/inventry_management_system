{
 "cells": [
  {
   "cell_type": "code",
   "execution_count": 14,
   "id": "0a79125d",
   "metadata": {},
   "outputs": [
    {
     "name": "stdout",
     "output_type": "stream",
     "text": [
      "(1001, {'name': 'amla juice', 'Ex_date': -2019.4, 'price': 200, 'quan': 50})\n",
      "(1002, {'name': 'kesh kanti oil', 'Ex_date': -2016, 'price': 130, 'quan': 40})\n",
      "(1003, {'name': 'cow ghee', 'Ex_date': -2005, 'price': 560, 'quan': 55})\n",
      "(1004, {'name': 'amla chapati condy', 'Ex_date': -1995, 'price': 174, 'quan': 67})\n",
      "(1005, {'name': 'honey', 'Ex_date': -2013, 'price': 292, 'quan': 143})\n",
      "(1006, {'name': 'rice bran oil', 'Ex_date': -2003, 'price': 115, 'quan': 45})\n",
      "(1007, {'name': 'marine biscuits', 'Ex_date': -2021, 'price': 30, 'quan': 45})\n",
      "(1008, {'name': 'dant kanti dental', 'Ex_date': -2002, 'price': 200, 'quan': 140})\n",
      "(1009, {'name': 'herbal mehandi', 'Ex_date': -2008, 'price': 34, 'quan': 200})\n",
      "(1010, {'name': 'body cleanser soap', 'Ex_date': -2013, 'price': 102, 'quan': 350})\n",
      "(1011, {'name': 'hair conditioner', 'Ex_date': -2019, 'price': 114, 'quan': 340})\n",
      "(1012, {'name': 'alovera gel', 'Ex_date': -2012, 'price': 82, 'quan': 440})\n",
      "(1013, {'name': 'wheat flour', 'Ex_date': -2006, 'price': 420, 'quan': 50})\n",
      "(1014, {'name': 'dhani musturd oil', 'Ex_date': -2016, 'price': 187, 'quan': 180})\n",
      "(1015, {'name': 'hair oil', 'Ex_date': -2014, 'price': 75, 'quan': 400})\n",
      "(1016, {'name': 'juice fiber', 'Ex_date': -2017, 'price': 189, 'quan': 100})\n",
      "(1017, {'name': 'giloy ghan vanti', 'Ex_date': -2001, 'price': 92, 'quan': 300})\n",
      "(1018, {'name': 'harbal face wash', 'Ex_date': -1992, 'price': 119, 'quan': 250})\n",
      "(1019, {'name': 'choco flakes', 'Ex_date': -2015, 'price': 100, 'quan': 150})\n",
      "(1020, {'name': 'anardana goli', 'Ex_date': -2024, 'price': 140, 'quan': 120})\n",
      "(1021, {'name': 'corn flakes mix', 'Ex_date': -1996, 'price': 105, 'quan': 110})\n",
      "(1022, {'name': 'gram besan', 'Ex_date': -2008, 'price': 145, 'quan': 100})\n",
      "(1023, {'name': 'tooth brush', 'Ex_date': -2010, 'price': 25, 'quan': 140})\n",
      "(1024, {'name': 'oats', 'Ex_date': -2002, 'price': 85, 'quan': 120})\n",
      "(1025, {'name': 'moong dal chilka', 'Ex_date': -2005, 'price': 142, 'quan': 140})\n",
      "(1026, {'name': 'dettol', 'Ex_date': -2005, 'price': 55, 'quan': 200})\n",
      "(1027, {'name': 'pudina tablet', 'Ex_date': -2005, 'price': 160, 'quan': 130})\n",
      "(1028, {'name': 'rajma', 'Ex_date': -2003, 'price': 40, 'quan': 450})\n",
      "(1029, {'name': 'mamos', 'Ex_date': -2007, 'price': 140, 'quan': 350})\n",
      "(1030, {'name': 'dosa', 'Ex_date': -1999, 'price': 50, 'quan': 150})\n",
      "(1031, {'name': 'burger', 'Ex_date': -2023, 'price': 45, 'quan': 200})\n",
      "inter the product id:1002\n",
      "inter the quantity of product:5\n",
      "purchaging is available\n",
      "your bill is:650\n"
     ]
    }
   ],
   "source": [
    "product={1001:{'name':'amla juice', 'Ex_date':13/5-2022, 'price':200, 'quan':50},\n",
    "  1002:{'name':'kesh kanti oil', 'Ex_date':12-6-2022, 'price':130, 'quan':40},\n",
    "  1003:{'name':'cow ghee', 'Ex_date':27-9-2023, 'price':560, 'quan':55},\n",
    "  1004:{'name':'amla chapati condy', 'Ex_date':29-2-2022, 'price':174, 'quan':67},\n",
    "  1005:{'name':'honey', 'Ex_date':20-9-2024, 'price':292, 'quan':143},\n",
    "  1006:{'name':'rice bran oil', 'Ex_date':21-2-2022, 'price':115, 'quan':45},\n",
    "  1007:{'name':'marine biscuits', 'Ex_date':11-11-2021, 'price':30, 'quan':45},\n",
    "  1008:{'name':'dant kanti dental', 'Ex_date':23-3-2022, 'price':200, 'quan':140},\n",
    "  1009:{'name':'herbal mehandi', 'Ex_date':23-9-2022, 'price':34, 'quan':200},\n",
    "  1010:{'name':'body cleanser soap', 'Ex_date':20-12-2021, 'price':102, 'quan':350},\n",
    "  1011:{'name':'hair conditioner', 'Ex_date':13-11-2021, 'price':114, 'quan':340},\n",
    "  1012:{'name':'alovera gel', 'Ex_date':13-3-2022, 'price':82, 'quan':440},\n",
    "  1013:{'name':'wheat flour', 'Ex_date':24-8-2022, 'price':420, 'quan':50},\n",
    "  1014:{'name':'dhani musturd oil', 'Ex_date':16-9-2023, 'price':187, 'quan':180},\n",
    "  1015:{'name':'hair oil', 'Ex_date':13-5-2022, 'price':75, 'quan':400},\n",
    "  1016:{'name':'juice fiber', 'Ex_date':11-5-2023, 'price':189, 'quan':100},\n",
    "  1017:{'name':'giloy ghan vanti', 'Ex_date':27-6-2022, 'price':92, 'quan':300},\n",
    "  1018:{'name':'harbal face wash', 'Ex_date':31-1-2022, 'price':119, 'quan':250},\n",
    "  1019:{'name':'choco flakes', 'Ex_date':16-10-2021, 'price':100, 'quan':150},\n",
    "  1020:{'name':'anardana goli', 'Ex_date':9-12-2021, 'price':140, 'quan':120},\n",
    "  1021:{'name':'corn flakes mix', 'Ex_date':31-5-2022, 'price':105, 'quan':110},\n",
    "  1022:{'name':'gram besan', 'Ex_date':22-8-2022, 'price':145, 'quan':100},\n",
    "  1023:{'name':'tooth brush', 'Ex_date':21-9-2022, 'price':25, 'quan':140},\n",
    "  1024:{'name':'oats', 'Ex_date':29-8-2023, 'price':85, 'quan':120},\n",
    "  1025:{'name':'moong dal chilka', 'Ex_date':20-2-2023, 'price':142, 'quan':140},\n",
    "  1026:{'name':'dettol', 'Ex_date':22-5-2022, 'price':55, 'quan':200},\n",
    "  1027:{'name':'pudina tablet', 'Ex_date':23-5-2023, 'price':160, 'quan':130},\n",
    "  1028:{'name':'rajma', 'Ex_date':24-5-2022, 'price':40, 'quan':450},\n",
    "  1029:{'name':'mamos', 'Ex_date':23-8-2022, 'price':140, 'quan':350},\n",
    "  1030:{'name':'dosa', 'Ex_date':31-9-2021, 'price':50, 'quan':150},\n",
    "  1031:{'name':'burger', 'Ex_date':7-9-2021, 'price':45, 'quan':200}}\n",
    "swich()\n",
    "for i in product.items():\n",
    "    print(i)\n",
    "p=int(input(\"inter the product id:\"))\n",
    "q=int(input(\"inter the quantity of product:\"))\n",
    "if product[p]['quan']>q:\n",
    "    print('purchaging is available')\n",
    "    product[p]['quan'] -= q\n",
    "    print(f\"your bill is:{product[p]['price']*q}\")\n",
    "else:\n",
    "    print('product is not available')"
   ]
  }
 ],
 "metadata": {
  "kernelspec": {
   "display_name": "Python 3",
   "language": "python",
   "name": "python3"
  },
  "language_info": {
   "codemirror_mode": {
    "name": "ipython",
    "version": 3
   },
   "file_extension": ".py",
   "mimetype": "text/x-python",
   "name": "python",
   "nbconvert_exporter": "python",
   "pygments_lexer": "ipython3",
   "version": "3.8.8"
  }
 },
 "nbformat": 4,
 "nbformat_minor": 5
}
